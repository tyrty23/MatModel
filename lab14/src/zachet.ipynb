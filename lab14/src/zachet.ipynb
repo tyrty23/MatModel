{
 "cells": [
  {
   "cell_type": "code",
   "execution_count": null,
   "metadata": {},
   "outputs": [
    {
     "name": "stdout",
     "output_type": "stream",
     "text": [
      "Результаты записаны в файл 'results2.txt'\n"
     ]
    }
   ],
   "source": [
    "import numpy as np\n",
    "\n",
    "N = 20\n",
    "X_nm = np.zeros((N, N))\n",
    "\n",
    "\n",
    "for i in range(N):\n",
    "    for j in range(N):\n",
    "        if i != j:\n",
    "            X_nm[i, j] = 100 - round(100 * np.random.rand()) - 50\n",
    "            X_nm[j, i] = X_nm[i, j] \n",
    "\n",
    "with open('results.txt', 'w') as f:\n",
    "    \n",
    "    total_debt = np.sum(np.abs(X_nm))  \n",
    "    f.write(f\"Сумма всех взаимных долгов: {total_debt:.0f}\\n\\n\")\n",
    "    f.write(\"Кососиметрическая матрица:\\n\")\n",
    "    for i in range(N):\n",
    "        f.write(f\"Предприятие {i + 1}: {np.array_str(X_nm[i, :i + 1].astype(int), max_line_width=np.inf)}\\n\")\n",
    "\n",
    "    \n",
    "    Sn = np.sum(X_nm, axis=1) \n",
    "    S = np.sum(np.abs(Sn))\n",
    "\n",
    "    \n",
    "    for i in range(N):\n",
    "        for j in range(N):\n",
    "            if S != 0: \n",
    "                X_nm[i, j] = (Sn[i] * np.abs(Sn[j]) - Sn[j] * np.abs(Sn[i])) / S\n",
    "            else:\n",
    "                X_nm[i, j] = 0 \n",
    "\n",
    "    total_debt_after_settlement = np.sum(np.abs(X_nm))\n",
    "    f.write(f\"\\nСумма всех взаимных долгов после взаимозачета: {total_debt_after_settlement:.5f}\\n\")\n",
    "    f.write(\"Кососиметрическая матрица после взаимозачета:\\n\")\n",
    "    for i in range(N):\n",
    "        f.write(f\"Предприятие {i + 1}: {np.array_str(np.round(X_nm[i, :i + 1], 2), max_line_width=np.inf)}\\n\")\n",
    "\n",
    "print(\"Результаты записаны в файл 'results2.txt'\")\n"
   ]
  }
 ],
 "metadata": {
  "kernelspec": {
   "display_name": "Python 3",
   "language": "python",
   "name": "python3"
  },
  "language_info": {
   "codemirror_mode": {
    "name": "ipython",
    "version": 3
   },
   "file_extension": ".py",
   "mimetype": "text/x-python",
   "name": "python",
   "nbconvert_exporter": "python",
   "pygments_lexer": "ipython3",
   "version": "3.12.1"
  }
 },
 "nbformat": 4,
 "nbformat_minor": 2
}
