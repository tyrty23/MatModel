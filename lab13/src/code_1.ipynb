{
 "cells": [
  {
   "cell_type": "code",
   "execution_count": 2,
   "metadata": {},
   "outputs": [
    {
     "name": "stdout",
     "output_type": "stream",
     "text": [
      "Число работающих R = 80\n",
      "Соотношение между потреблением и накоплением w/A = 1.04978\n",
      "Норма накопления A/Y = 0.48786\n"
     ]
    }
   ],
   "source": [
    "import numpy as np\n",
    "\n",
    "alpha = 0.2\n",
    "beta = 0.3\n",
    "gamma = 0.4\n",
    "R0 = 4\n",
    "M0 = 20\n",
    "\n",
    "def f(x):\n",
    "    return np.sqrt(0.03 * x)\n",
    "\n",
    "c = 0\n",
    "A_m = 0\n",
    "R_m = 0\n",
    "w_m = 0\n",
    "\n",
    "for t in range(51):\n",
    "    R = R0 * np.exp(alpha * t)\n",
    "    M = M0 * np.exp((gamma - beta) * t)\n",
    "    \n",
    "    x = R / M\n",
    "    Y = M * f(x)\n",
    "    A = alpha * gamma * M\n",
    "    w = Y - A\n",
    "    \n",
    "    if w / R > c:\n",
    "        c = w / R\n",
    "        A_m = A\n",
    "        R_m = R\n",
    "        w_m = w\n",
    "\n",
    "print(f\"Число работающих R = {R_m:.0f}\")\n",
    "print(f\"Соотношение между потреблением и накоплением w/A = {w_m / A_m:.5f}\")\n",
    "\n",
    "print(f\"Норма накопления A/Y = {A_m / (w_m + A_m):.5f}\")\n"
   ]
  }
 ],
 "metadata": {
  "kernelspec": {
   "display_name": "Python 3",
   "language": "python",
   "name": "python3"
  },
  "language_info": {
   "codemirror_mode": {
    "name": "ipython",
    "version": 3
   },
   "file_extension": ".py",
   "mimetype": "text/x-python",
   "name": "python",
   "nbconvert_exporter": "python",
   "pygments_lexer": "ipython3",
   "version": "3.12.1"
  }
 },
 "nbformat": 4,
 "nbformat_minor": 2
}
